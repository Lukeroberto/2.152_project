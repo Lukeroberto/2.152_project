{
 "cells": [
  {
   "cell_type": "code",
   "execution_count": 1,
   "metadata": {},
   "outputs": [
    {
     "name": "stderr",
     "output_type": "stream",
     "text": [
      "WARNING: Method definition (::Type{DiffEqParamEstim.L2Loss{T, D, U, W} where W where U where D where T})(Any, Any) in module DiffEqParamEstim at /home/luke/.julia/v0.6/DiffEqParamEstim/src/cost_functions.jl:87 overwritten at /home/luke/.julia/v0.6/DiffEqParamEstim/src/cost_functions.jl:88.\n",
      "WARNING: Method definition Type(Array{Any, 1}, Type{DiffEqParamEstim.L2Loss{T, D, U, W} where W where U where D where T}, Any, Any) in module DiffEqParamEstim overwritten.\n"
     ]
    }
   ],
   "source": [
    "using DifferentialEquations\n",
    "using Plots"
   ]
  },
  {
   "cell_type": "code",
   "execution_count": 12,
   "metadata": {},
   "outputs": [
    {
     "name": "stderr",
     "output_type": "stream",
     "text": [
      "WARNING: replacing module dynamics\n"
     ]
    },
    {
     "data": {
      "text/plain": [
       "dynamics"
      ]
     },
     "execution_count": 12,
     "metadata": {},
     "output_type": "execute_result"
    }
   ],
   "source": [
    "include(\"dynamics/dynamics.jl\")"
   ]
  },
  {
   "cell_type": "code",
   "execution_count": 13,
   "metadata": {},
   "outputs": [
    {
     "data": {
      "text/plain": [
       "manipulator (generic function with 1 method)"
      ]
     },
     "execution_count": 13,
     "metadata": {},
     "output_type": "execute_result"
    }
   ],
   "source": [
    "manip = dynamics.manipulator\n"
   ]
  },
  {
   "cell_type": "code",
   "execution_count": 14,
   "metadata": {},
   "outputs": [
    {
     "data": {
      "text/plain": [
       "8-element Array{Any,1}:\n",
       " 1.0 \n",
       " 1.0 \n",
       " 1.0 \n",
       " 1.0 \n",
       " 1.0 \n",
       " 1.0 \n",
       " 9.81\n",
       "  τ  "
      ]
     },
     "execution_count": 14,
     "metadata": {},
     "output_type": "execute_result"
    }
   ],
   "source": [
    "# Set up the arm parameters\n",
    "l1 = l2 = 1.0;\n",
    "m1 = m2 = 1.0;\n",
    "I1 = I2 = 1.0;\n",
    "g  = 9.81\n",
    "\n",
    "# Set up the controller\n",
    "\n",
    "# Lump into parameter vector\n",
    "p = [l1, l2, m1, m2, I1, I2, g]\n",
    "\n",
    "\n"
   ]
  },
  {
   "cell_type": "code",
   "execution_count": 15,
   "metadata": {},
   "outputs": [
    {
     "ename": "LoadError",
     "evalue": "\u001b[91mMethodError: Cannot `convert` an object of type Array{Any,1} to an object of type Tuple{Any,Any}\nThis may have arisen from a call to the constructor Tuple{Any,Any}(...),\nsince type constructors fall back to convert methods.\u001b[39m",
     "output_type": "error",
     "traceback": [
      "\u001b[91mMethodError: Cannot `convert` an object of type Array{Any,1} to an object of type Tuple{Any,Any}\nThis may have arisen from a call to the constructor Tuple{Any,Any}(...),\nsince type constructors fall back to convert methods.\u001b[39m",
      "",
      "Stacktrace:",
      " [1] \u001b[1m(::DiffEqBase.##call#177#181)\u001b[22m\u001b[22m\u001b[1m(\u001b[22m\u001b[22m::Void, ::Void, ::UniformScaling{Int64}, ::Type{DiffEqBase.ODEProblem{true,tType,isinplace,P,F,J,C,MM,PT} where PT where MM where C where J where F where P where isinplace where tType}, ::Function, ::Array{Float64,1}, ::Array{Any,1}, ::Tuple{Float64,Float64}, ::DiffEqBase.StandardODEProblem\u001b[1m)\u001b[22m\u001b[22m at \u001b[1m/home/luke/.julia/v0.6/DiffEqBase/src/problems/ode_problems.jl:23\u001b[22m\u001b[22m",
      " [2] \u001b[1mDiffEqBase.ODEProblem{true,tType,isinplace,P,F,J,C,MM,PT} where PT where MM where C where J where F where P where isinplace where tType\u001b[22m\u001b[22m\u001b[1m(\u001b[22m\u001b[22m::Function, ::Array{Float64,1}, ::Array{Any,1}, ::Tuple{Float64,Float64}\u001b[1m)\u001b[22m\u001b[22m at \u001b[1m/home/luke/.julia/v0.6/DiffEqBase/src/problems/ode_problems.jl:18\u001b[22m\u001b[22m",
      " [3] \u001b[1m#ODEProblem#185\u001b[22m\u001b[22m\u001b[1m(\u001b[22m\u001b[22m::Array{Any,1}, ::Type{T} where T, ::Function, ::Array{Float64,1}, ::Array{Any,1}, ::Tuple{Float64,Float64}\u001b[1m)\u001b[22m\u001b[22m at \u001b[1m/home/luke/.julia/v0.6/DiffEqBase/src/problems/ode_problems.jl:33\u001b[22m\u001b[22m",
      " [4] \u001b[1mDiffEqBase.ODEProblem\u001b[22m\u001b[22m\u001b[1m(\u001b[22m\u001b[22m::Function, ::Array{Float64,1}, ::Array{Any,1}, ::Tuple{Float64,Float64}\u001b[1m)\u001b[22m\u001b[22m at \u001b[1m/home/luke/.julia/v0.6/DiffEqBase/src/problems/ode_problems.jl:32\u001b[22m\u001b[22m",
      " [5] \u001b[1minclude_string\u001b[22m\u001b[22m\u001b[1m(\u001b[22m\u001b[22m::String, ::String\u001b[1m)\u001b[22m\u001b[22m at \u001b[1m./loading.jl:522\u001b[22m\u001b[22m"
     ]
    }
   ],
   "source": [
    "x_0 = [pi/4, 0, 0, 0,0,0]\n",
    "tspan = (0.0,10.0)\n",
    "\n",
    "prob = ODEProblem(manip, x_0, p, tspan)\n"
   ]
  },
  {
   "cell_type": "code",
   "execution_count": null,
   "metadata": {},
   "outputs": [],
   "source": []
  }
 ],
 "metadata": {
  "kernelspec": {
   "display_name": "Julia 0.6.2",
   "language": "julia",
   "name": "julia-0.6"
  },
  "language_info": {
   "file_extension": ".jl",
   "mimetype": "application/julia",
   "name": "julia",
   "version": "0.6.2"
  }
 },
 "nbformat": 4,
 "nbformat_minor": 2
}
