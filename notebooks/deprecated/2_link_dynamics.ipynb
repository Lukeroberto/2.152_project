{
 "cells": [
  {
   "cell_type": "code",
   "execution_count": 1,
   "metadata": {},
   "outputs": [
    {
     "data": {
      "text/plain": [
       "lagrange"
      ]
     },
     "execution_count": 1,
     "metadata": {},
     "output_type": "execute_result"
    }
   ],
   "source": [
    "using SymEngine\n",
    "include(\"../dynamics/lagrange.jl\")"
   ]
  },
  {
   "cell_type": "code",
   "execution_count": 2,
   "metadata": {},
   "outputs": [
    {
     "data": {
      "text/plain": [
       "(l1, l2, lc1, lc2, q1, q2, dq1, dq2, ddq1, ddq2, g, m1, m2, I1, I2, t1, t2, ml, Il)"
      ]
     },
     "execution_count": 2,
     "metadata": {},
     "output_type": "execute_result"
    }
   ],
   "source": [
    "# Deriving the dynamics\n",
    "\n",
    "@vars l1 l2 lc1 lc2 q1 q2 dq1 dq2 ddq1 ddq2 g m1 m2 I1 I2 t1 t2 ml Il"
   ]
  },
  {
   "cell_type": "code",
   "execution_count": 3,
   "metadata": {},
   "outputs": [
    {
     "name": "stdout",
     "output_type": "stream",
     "text": [
      "Link 1: SymEngine.Basic[0.5*l1*cos(q1), 0.5*l1*sin(q2), 0.0]\n",
      "Link 2: SymEngine.Basic[1.0*l1*cos(q1) + 0.5*cos(q1 + q2)*l2, 1.0*l1*sin(q2) + 0.5*sin(q1 + q2)*l2, 0]\n"
     ]
    }
   ],
   "source": [
    "# Define the keypoints of the arm\n",
    "q   = [q1;q2]\n",
    "dq  = [dq1;dq2]\n",
    "ddq = [ddq1;ddq2]\n",
    "\n",
    "ihat = [1;0;0]\n",
    "jhat = [0;1;0]\n",
    "khat = cross(ihat,jhat)\n",
    "\n",
    "\n",
    "r1 = 0.5*l1*(cos(q1)*ihat + sin(q2)*jhat)\n",
    "r2 = 2*r1 + 0.5*l2*(cos(q1 + q2)*ihat + sin(q1 + q2)*jhat)\n",
    "\n",
    "# Force of load\n",
    "# rl = 2*r1 + 2*r2\n",
    "# Fl = -ml*g*jhat\n",
    "\n",
    "println(\"Link 1: \", r1)\n",
    "println(\"Link 2: \", r2)"
   ]
  },
  {
   "cell_type": "code",
   "execution_count": 4,
   "metadata": {},
   "outputs": [
    {
     "name": "stdout",
     "output_type": "stream",
     "text": [
      "Link 1: SymEngine.Basic[-0.5*l1*sin(q1)*dq1, 0.5*l1*cos(q2)*dq2, 0]\n",
      "Link 2: SymEngine.Basic[dq1*(-1.0*l1*sin(q1) - 0.5*sin(q1 + q2)*l2) - 0.5*sin(q1 + q2)*l2*dq2, dq2*(1.0*l1*cos(q2) + 0.5*cos(q1 + q2)*l2) + 0.5*cos(q1 + q2)*l2*dq1, 0]\n"
     ]
    }
   ],
   "source": [
    "# Derivative of linkage velocities\n",
    "dr1 = lagrange.ddt(r1,q,dq,ddq)\n",
    "dr2 = lagrange.ddt(r2,q,dq,ddq)\n",
    "\n",
    "println(\"Link 1: \", dr1)\n",
    "println(\"Link 2: \", dr2)"
   ]
  },
  {
   "cell_type": "code",
   "execution_count": 5,
   "metadata": {},
   "outputs": [
    {
     "name": "stdout",
     "output_type": "stream",
     "text": [
      "Generalized Torque: SymEngine.Basic[t1, t2]\n"
     ]
    }
   ],
   "source": [
    "# Generalized Forces\n",
    "Q1 = lagrange.M2Q(t1*khat,dq1*khat, dq)\n",
    "Q2 = lagrange.M2Q(t2*khat,dq2*khat, dq)\n",
    "# Ql = lagrange.F2Q(rl,Fl,q)\n",
    "\n",
    "# Q = [Q1[i] + Q2[i] + Ql[i] for i in 1:2]\n",
    "Q = Q1 .+ Q2\n",
    "\n",
    "println(\"Generalized Torque: \", Q)"
   ]
  },
  {
   "cell_type": "code",
   "execution_count": 6,
   "metadata": {},
   "outputs": [
    {
     "data": {
      "text/plain": [
       "0.5*I1*dq1^2 + 0.5*I2*dq2^2 + 0.5*m2*((1.0*l1*sin(q2) + 0.5*sin(q1 + q2)*l2)^2 + (1.0*l1*cos(q1) + 0.5*cos(q1 + q2)*l2)^2) + 0.5*(0.0 + 0.25*l1^2*sin(q2)^2 + 0.25*l1^2*cos(q1)^2)*m1 - (-g*m2*(1.0*l1*sin(q2) + 0.5*sin(q1 + q2)*l2) - 0.5*g*l1*m1*sin(q2))"
      ]
     },
     "execution_count": 6,
     "metadata": {},
     "output_type": "execute_result"
    }
   ],
   "source": [
    "# Kinetic and Potential Energy\n",
    "\n",
    "T1 = 0.5*m1*dot(r1,r1) + 0.5*I1*dot(dq1,dq1)\n",
    "T2 = 0.5*m2*dot(r2,r2) + 0.5*I2*dot(dq2,dq2)\n",
    "T  = T1 + T2\n",
    "\n",
    "V1 = m1*g*dot(r1,-jhat)\n",
    "V2 = m2*g*dot(r2,-jhat)\n",
    "V  = V1 + V2\n",
    "\n",
    "# Lagrangian\n",
    "L  = T - V"
   ]
  },
  {
   "cell_type": "code",
   "execution_count": 10,
   "metadata": {},
   "outputs": [
    {
     "name": "stdout",
     "output_type": "stream",
     "text": [
      "Accel: SymEngine.Basic[1.0*I1*ddq1, 1.0*I2*ddq2]\n",
      "\n",
      "State: SymEngine.Basic[-(0.5*m2*(2*(-1.0*l1*sin(q1) - 0.5*sin(q1 + q2)*l2)*(1.0*l1*cos(q1) + 0.5*cos(q1 + q2)*l2) + 1.0*cos(q1 + q2)*l2*(1.0*l1*sin(q2) + 0.5*sin(q1 + q2)*l2)) + 0.5*g*cos(q1 + q2)*l2*m2 - 0.25*l1^2*m1*sin(q1)*cos(q1)); -(0.5*m2*(2*(1.0*l1*sin(q2) + 0.5*sin(q1 + q2)*l2)*(1.0*l1*cos(q2) + 0.5*cos(q1 + q2)*l2) - 1.0*sin(q1 + q2)*l2*(1.0*l1*cos(q1) + 0.5*cos(q1 + q2)*l2)) + g*m2*(1.0*l1*cos(q2) + 0.5*cos(q1 + q2)*l2) + 0.5*g*l1*m1*cos(q2) + 0.25*l1^2*m1*sin(q2)*cos(q2))]\n",
      "\n",
      "Generalized: SymEngine.Basic[t1, t2]\n"
     ]
    }
   ],
   "source": [
    "# Generate Equations of motion\n",
    "accel = lagrange.ddt(lagrange.jacobian(L,dq)',q,dq,ddq)\n",
    "state = -lagrange.jacobian(L,q)'\n",
    "\n",
    "sys =  accel + state - Q\n",
    "\n",
    "\n",
    "println(\"Accel: \",accel)\n",
    "println(\"\\nState: \",state)\n",
    "println(\"\\nGeneralized: \",Q)\n",
    "# println(\"Equations of motion: \", eom)"
   ]
  },
  {
   "cell_type": "code",
   "execution_count": 11,
   "metadata": {},
   "outputs": [
    {
     "ename": "LoadError",
     "evalue": "\u001b[91mDimensionMismatch(\"dimensions must match\")\u001b[39m",
     "output_type": "error",
     "traceback": [
      "\u001b[91mDimensionMismatch(\"dimensions must match\")\u001b[39m",
      "",
      "Stacktrace:",
      " [1] \u001b[1mpromote_shape\u001b[22m\u001b[22m\u001b[1m(\u001b[22m\u001b[22m::Tuple{Base.OneTo{Int64},Base.OneTo{Int64}}, ::Tuple{Base.OneTo{Int64}}\u001b[1m)\u001b[22m\u001b[22m at \u001b[1m./indices.jl:79\u001b[22m\u001b[22m",
      " [2] \u001b[1mpromote_shape\u001b[22m\u001b[22m\u001b[1m(\u001b[22m\u001b[22m::Tuple{Base.OneTo{Int64}}, ::Tuple{Base.OneTo{Int64},Base.OneTo{Int64}}\u001b[1m)\u001b[22m\u001b[22m at \u001b[1m./indices.jl:75\u001b[22m\u001b[22m",
      " [3] \u001b[1m-\u001b[22m\u001b[22m\u001b[1m(\u001b[22m\u001b[22m::Array{SymEngine.Basic,1}, ::Array{SymEngine.Basic,2}\u001b[1m)\u001b[22m\u001b[22m at \u001b[1m./arraymath.jl:38\u001b[22m\u001b[22m"
     ]
    }
   ],
   "source": [
    "# Rewrite as ss model\n",
    "type(A)\n",
    "type(B)\n",
    "\n",
    "A = lagrange.jacobian(g,ddq)\n",
    "b = A*ddq - sys\n",
    "\n",
    "ddq2 = A\\b\n",
    "\n",
    "z  = [q;dq]\n",
    "dz = [dq;ddq2]\n",
    "\n",
    "println(\"Z: \", z)\n",
    "println(\"dZ: \", dz)"
   ]
  },
  {
   "cell_type": "code",
   "execution_count": 10,
   "metadata": {},
   "outputs": [],
   "source": [
    "using DifferentialEquations\n",
    "using Plots"
   ]
  },
  {
   "cell_type": "code",
   "execution_count": 12,
   "metadata": {},
   "outputs": [
    {
     "data": {
      "text/plain": [
       "manipulator_weight (generic function with 1 method)"
      ]
     },
     "execution_count": 12,
     "metadata": {},
     "output_type": "execute_result"
    }
   ],
   "source": [
    "# Setup dynamics\n",
    "\n",
    "function manipulator_weight(dz, z, p, t)\n",
    "    sym_z  = p[1]\n",
    "    sym_dz = p[2]\n",
    "    \n",
    "    dz[1] = subs(sym_z[1],dq=>z[1])\n",
    "    dz[2] = subs(sym_z[2],dq=>z[2])\n",
    "    dz[3] = subs(sym_dz[1], dq => dz[1], q => dz[2])\n",
    "    dz[4] = subs(sym_dz[1], dq => dz[1], q => dz[2])\n",
    "    \n",
    "end"
   ]
  },
  {
   "cell_type": "code",
   "execution_count": null,
   "metadata": {},
   "outputs": [],
   "source": []
  }
 ],
 "metadata": {
  "kernelspec": {
   "display_name": "Julia 0.6.2",
   "language": "julia",
   "name": "julia-0.6"
  },
  "language_info": {
   "file_extension": ".jl",
   "mimetype": "application/julia",
   "name": "julia",
   "version": "0.6.2"
  }
 },
 "nbformat": 4,
 "nbformat_minor": 2
}
