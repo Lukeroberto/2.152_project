{
 "cells": [
  {
   "cell_type": "code",
   "execution_count": 1,
   "metadata": {},
   "outputs": [
    {
     "data": {
      "text/plain": [
       "Plots.GRBackend()"
      ]
     },
     "execution_count": 1,
     "metadata": {},
     "output_type": "execute_result"
    }
   ],
   "source": [
    "using Plots\n",
    "gr()\n"
   ]
  },
  {
   "cell_type": "code",
   "execution_count": 2,
   "metadata": {},
   "outputs": [
    {
     "data": {
      "text/plain": [
       "2-element Array{Array{Float64,1},1}:\n",
       " [0.540302, 0.453596, 0.362358, 0.267499, 0.169967, 0.0707372, -0.0291995, -0.128844, -0.227202, -0.32329  …  -0.947722, -0.974844, -0.992225, -0.999693, -0.997172, -0.984688, -0.962365, -0.930426, -0.889191, -0.839072]\n",
       " [0.841471, 0.891207, 0.932039, 0.963558, 0.98545, 0.997495, 0.999574, 0.991665, 0.973848, 0.9463  …  0.319098, 0.22289, 0.124454, 0.0247754, -0.0751511, -0.174327, -0.271761, -0.366479, -0.457536, -0.544021]           "
      ]
     },
     "execution_count": 2,
     "metadata": {},
     "output_type": "execute_result"
    }
   ],
   "source": [
    "# Time vector\n",
    "tspan = 1:0.1:10\n",
    "\n",
    "# Origin, and end of link\n",
    "x0 = [0.0, 0.0]\n",
    "xl = [cos.(tspan), sin.(tspan)]\n"
   ]
  },
  {
   "cell_type": "code",
   "execution_count": 3,
   "metadata": {},
   "outputs": [
    {
     "data": {
      "image/svg+xml": [
       "<?xml version=\"1.0\" encoding=\"utf-8\"?>\n",
       "<svg xmlns=\"http://www.w3.org/2000/svg\" xmlns:xlink=\"http://www.w3.org/1999/xlink\" width=\"600\" height=\"400\" viewBox=\"0 0 600 400\">\n",
       "<defs>\n",
       "  <clipPath id=\"clip5200\">\n",
       "    <rect x=\"0\" y=\"0\" width=\"600\" height=\"400\"/>\n",
       "  </clipPath>\n",
       "</defs>\n",
       "<polygon clip-path=\"url(#clip5200)\" points=\"\n",
       "0,400 600,400 600,0 0,0 \n",
       "  \" fill=\"#ffffff\" fill-opacity=\"1\"/>\n",
       "<defs>\n",
       "  <clipPath id=\"clip5201\">\n",
       "    <rect x=\"120\" y=\"0\" width=\"421\" height=\"400\"/>\n",
       "  </clipPath>\n",
       "</defs>\n",
       "<polygon clip-path=\"url(#clip5200)\" points=\"\n",
       "46.1926,375.869 580.315,375.869 580.315,11.811 46.1926,11.811 \n",
       "  \" fill=\"#ffffff\" fill-opacity=\"1\"/>\n",
       "<defs>\n",
       "  <clipPath id=\"clip5202\">\n",
       "    <rect x=\"46\" y=\"11\" width=\"535\" height=\"365\"/>\n",
       "  </clipPath>\n",
       "</defs>\n",
       "<polyline clip-path=\"url(#clip5202)\" style=\"stroke:#000000; stroke-width:0.5; stroke-opacity:0.1; fill:none\" points=\"\n",
       "  112.891,375.869 112.891,11.811 \n",
       "  \"/>\n",
       "<polyline clip-path=\"url(#clip5202)\" style=\"stroke:#000000; stroke-width:0.5; stroke-opacity:0.1; fill:none\" points=\"\n",
       "  179.671,375.869 179.671,11.811 \n",
       "  \"/>\n",
       "<polyline clip-path=\"url(#clip5202)\" style=\"stroke:#000000; stroke-width:0.5; stroke-opacity:0.1; fill:none\" points=\"\n",
       "  246.451,375.869 246.451,11.811 \n",
       "  \"/>\n",
       "<polyline clip-path=\"url(#clip5202)\" style=\"stroke:#000000; stroke-width:0.5; stroke-opacity:0.1; fill:none\" points=\"\n",
       "  313.232,375.869 313.232,11.811 \n",
       "  \"/>\n",
       "<polyline clip-path=\"url(#clip5202)\" style=\"stroke:#000000; stroke-width:0.5; stroke-opacity:0.1; fill:none\" points=\"\n",
       "  380.012,375.869 380.012,11.811 \n",
       "  \"/>\n",
       "<polyline clip-path=\"url(#clip5202)\" style=\"stroke:#000000; stroke-width:0.5; stroke-opacity:0.1; fill:none\" points=\"\n",
       "  446.792,375.869 446.792,11.811 \n",
       "  \"/>\n",
       "<polyline clip-path=\"url(#clip5202)\" style=\"stroke:#000000; stroke-width:0.5; stroke-opacity:0.1; fill:none\" points=\"\n",
       "  513.572,375.869 513.572,11.811 \n",
       "  \"/>\n",
       "<polyline clip-path=\"url(#clip5202)\" style=\"stroke:#000000; stroke-width:0.5; stroke-opacity:0.1; fill:none\" points=\"\n",
       "  46.1926,330.364 580.315,330.364 \n",
       "  \"/>\n",
       "<polyline clip-path=\"url(#clip5202)\" style=\"stroke:#000000; stroke-width:0.5; stroke-opacity:0.1; fill:none\" points=\"\n",
       "  46.1926,284.845 580.315,284.845 \n",
       "  \"/>\n",
       "<polyline clip-path=\"url(#clip5202)\" style=\"stroke:#000000; stroke-width:0.5; stroke-opacity:0.1; fill:none\" points=\"\n",
       "  46.1926,239.327 580.315,239.327 \n",
       "  \"/>\n",
       "<polyline clip-path=\"url(#clip5202)\" style=\"stroke:#000000; stroke-width:0.5; stroke-opacity:0.1; fill:none\" points=\"\n",
       "  46.1926,193.808 580.315,193.808 \n",
       "  \"/>\n",
       "<polyline clip-path=\"url(#clip5202)\" style=\"stroke:#000000; stroke-width:0.5; stroke-opacity:0.1; fill:none\" points=\"\n",
       "  46.1926,148.289 580.315,148.289 \n",
       "  \"/>\n",
       "<polyline clip-path=\"url(#clip5202)\" style=\"stroke:#000000; stroke-width:0.5; stroke-opacity:0.1; fill:none\" points=\"\n",
       "  46.1926,102.771 580.315,102.771 \n",
       "  \"/>\n",
       "<polyline clip-path=\"url(#clip5202)\" style=\"stroke:#000000; stroke-width:0.5; stroke-opacity:0.1; fill:none\" points=\"\n",
       "  46.1926,57.252 580.315,57.252 \n",
       "  \"/>\n",
       "<polyline clip-path=\"url(#clip5200)\" style=\"stroke:#000000; stroke-width:1; stroke-opacity:1; fill:none\" points=\"\n",
       "  46.1926,375.869 580.315,375.869 \n",
       "  \"/>\n",
       "<polyline clip-path=\"url(#clip5200)\" style=\"stroke:#000000; stroke-width:1; stroke-opacity:1; fill:none\" points=\"\n",
       "  46.1926,375.869 46.1926,11.811 \n",
       "  \"/>\n",
       "<polyline clip-path=\"url(#clip5200)\" style=\"stroke:#000000; stroke-width:1; stroke-opacity:1; fill:none\" points=\"\n",
       "  112.891,375.869 112.891,370.408 \n",
       "  \"/>\n",
       "<polyline clip-path=\"url(#clip5200)\" style=\"stroke:#000000; stroke-width:1; stroke-opacity:1; fill:none\" points=\"\n",
       "  179.671,375.869 179.671,370.408 \n",
       "  \"/>\n",
       "<polyline clip-path=\"url(#clip5200)\" style=\"stroke:#000000; stroke-width:1; stroke-opacity:1; fill:none\" points=\"\n",
       "  246.451,375.869 246.451,370.408 \n",
       "  \"/>\n",
       "<polyline clip-path=\"url(#clip5200)\" style=\"stroke:#000000; stroke-width:1; stroke-opacity:1; fill:none\" points=\"\n",
       "  313.232,375.869 313.232,370.408 \n",
       "  \"/>\n",
       "<polyline clip-path=\"url(#clip5200)\" style=\"stroke:#000000; stroke-width:1; stroke-opacity:1; fill:none\" points=\"\n",
       "  380.012,375.869 380.012,370.408 \n",
       "  \"/>\n",
       "<polyline clip-path=\"url(#clip5200)\" style=\"stroke:#000000; stroke-width:1; stroke-opacity:1; fill:none\" points=\"\n",
       "  446.792,375.869 446.792,370.408 \n",
       "  \"/>\n",
       "<polyline clip-path=\"url(#clip5200)\" style=\"stroke:#000000; stroke-width:1; stroke-opacity:1; fill:none\" points=\"\n",
       "  513.572,375.869 513.572,370.408 \n",
       "  \"/>\n",
       "<polyline clip-path=\"url(#clip5200)\" style=\"stroke:#000000; stroke-width:1; stroke-opacity:1; fill:none\" points=\"\n",
       "  46.1926,330.364 54.2044,330.364 \n",
       "  \"/>\n",
       "<polyline clip-path=\"url(#clip5200)\" style=\"stroke:#000000; stroke-width:1; stroke-opacity:1; fill:none\" points=\"\n",
       "  46.1926,284.845 54.2044,284.845 \n",
       "  \"/>\n",
       "<polyline clip-path=\"url(#clip5200)\" style=\"stroke:#000000; stroke-width:1; stroke-opacity:1; fill:none\" points=\"\n",
       "  46.1926,239.327 54.2044,239.327 \n",
       "  \"/>\n",
       "<polyline clip-path=\"url(#clip5200)\" style=\"stroke:#000000; stroke-width:1; stroke-opacity:1; fill:none\" points=\"\n",
       "  46.1926,193.808 54.2044,193.808 \n",
       "  \"/>\n",
       "<polyline clip-path=\"url(#clip5200)\" style=\"stroke:#000000; stroke-width:1; stroke-opacity:1; fill:none\" points=\"\n",
       "  46.1926,148.289 54.2044,148.289 \n",
       "  \"/>\n",
       "<polyline clip-path=\"url(#clip5200)\" style=\"stroke:#000000; stroke-width:1; stroke-opacity:1; fill:none\" points=\"\n",
       "  46.1926,102.771 54.2044,102.771 \n",
       "  \"/>\n",
       "<polyline clip-path=\"url(#clip5200)\" style=\"stroke:#000000; stroke-width:1; stroke-opacity:1; fill:none\" points=\"\n",
       "  46.1926,57.252 54.2044,57.252 \n",
       "  \"/>\n",
       "<g clip-path=\"url(#clip5200)\">\n",
       "<text style=\"fill:#000000; fill-opacity:1; font-family:Arial,Helvetica Neue,Helvetica,sans-serif; font-size:12; text-anchor:middle;\" transform=\"rotate(0, 112.891, 389.669)\" x=\"112.891\" y=\"389.669\">-0.75</text>\n",
       "</g>\n",
       "<g clip-path=\"url(#clip5200)\">\n",
       "<text style=\"fill:#000000; fill-opacity:1; font-family:Arial,Helvetica Neue,Helvetica,sans-serif; font-size:12; text-anchor:middle;\" transform=\"rotate(0, 179.671, 389.669)\" x=\"179.671\" y=\"389.669\">-0.50</text>\n",
       "</g>\n",
       "<g clip-path=\"url(#clip5200)\">\n",
       "<text style=\"fill:#000000; fill-opacity:1; font-family:Arial,Helvetica Neue,Helvetica,sans-serif; font-size:12; text-anchor:middle;\" transform=\"rotate(0, 246.451, 389.669)\" x=\"246.451\" y=\"389.669\">-0.25</text>\n",
       "</g>\n",
       "<g clip-path=\"url(#clip5200)\">\n",
       "<text style=\"fill:#000000; fill-opacity:1; font-family:Arial,Helvetica Neue,Helvetica,sans-serif; font-size:12; text-anchor:middle;\" transform=\"rotate(0, 313.232, 389.669)\" x=\"313.232\" y=\"389.669\">0.00</text>\n",
       "</g>\n",
       "<g clip-path=\"url(#clip5200)\">\n",
       "<text style=\"fill:#000000; fill-opacity:1; font-family:Arial,Helvetica Neue,Helvetica,sans-serif; font-size:12; text-anchor:middle;\" transform=\"rotate(0, 380.012, 389.669)\" x=\"380.012\" y=\"389.669\">0.25</text>\n",
       "</g>\n",
       "<g clip-path=\"url(#clip5200)\">\n",
       "<text style=\"fill:#000000; fill-opacity:1; font-family:Arial,Helvetica Neue,Helvetica,sans-serif; font-size:12; text-anchor:middle;\" transform=\"rotate(0, 446.792, 389.669)\" x=\"446.792\" y=\"389.669\">0.50</text>\n",
       "</g>\n",
       "<g clip-path=\"url(#clip5200)\">\n",
       "<text style=\"fill:#000000; fill-opacity:1; font-family:Arial,Helvetica Neue,Helvetica,sans-serif; font-size:12; text-anchor:middle;\" transform=\"rotate(0, 513.572, 389.669)\" x=\"513.572\" y=\"389.669\">0.75</text>\n",
       "</g>\n",
       "<g clip-path=\"url(#clip5200)\">\n",
       "<text style=\"fill:#000000; fill-opacity:1; font-family:Arial,Helvetica Neue,Helvetica,sans-serif; font-size:12; text-anchor:end;\" transform=\"rotate(0, 40.1926, 334.864)\" x=\"40.1926\" y=\"334.864\">-0.75</text>\n",
       "</g>\n",
       "<g clip-path=\"url(#clip5200)\">\n",
       "<text style=\"fill:#000000; fill-opacity:1; font-family:Arial,Helvetica Neue,Helvetica,sans-serif; font-size:12; text-anchor:end;\" transform=\"rotate(0, 40.1926, 289.345)\" x=\"40.1926\" y=\"289.345\">-0.50</text>\n",
       "</g>\n",
       "<g clip-path=\"url(#clip5200)\">\n",
       "<text style=\"fill:#000000; fill-opacity:1; font-family:Arial,Helvetica Neue,Helvetica,sans-serif; font-size:12; text-anchor:end;\" transform=\"rotate(0, 40.1926, 243.827)\" x=\"40.1926\" y=\"243.827\">-0.25</text>\n",
       "</g>\n",
       "<g clip-path=\"url(#clip5200)\">\n",
       "<text style=\"fill:#000000; fill-opacity:1; font-family:Arial,Helvetica Neue,Helvetica,sans-serif; font-size:12; text-anchor:end;\" transform=\"rotate(0, 40.1926, 198.308)\" x=\"40.1926\" y=\"198.308\">0.00</text>\n",
       "</g>\n",
       "<g clip-path=\"url(#clip5200)\">\n",
       "<text style=\"fill:#000000; fill-opacity:1; font-family:Arial,Helvetica Neue,Helvetica,sans-serif; font-size:12; text-anchor:end;\" transform=\"rotate(0, 40.1926, 152.789)\" x=\"40.1926\" y=\"152.789\">0.25</text>\n",
       "</g>\n",
       "<g clip-path=\"url(#clip5200)\">\n",
       "<text style=\"fill:#000000; fill-opacity:1; font-family:Arial,Helvetica Neue,Helvetica,sans-serif; font-size:12; text-anchor:end;\" transform=\"rotate(0, 40.1926, 107.271)\" x=\"40.1926\" y=\"107.271\">0.50</text>\n",
       "</g>\n",
       "<g clip-path=\"url(#clip5200)\">\n",
       "<text style=\"fill:#000000; fill-opacity:1; font-family:Arial,Helvetica Neue,Helvetica,sans-serif; font-size:12; text-anchor:end;\" transform=\"rotate(0, 40.1926, 61.752)\" x=\"40.1926\" y=\"61.752\">0.75</text>\n",
       "</g>\n",
       "<polyline clip-path=\"url(#clip5202)\" style=\"stroke:#009af9; stroke-width:5; stroke-opacity:1; fill:none\" points=\"\n",
       "  457.558,40.5975 434.397,31.5418 410.025,24.1073 384.686,18.3685 358.633,14.3826 332.127,12.1895 305.432,11.811 278.815,13.251 252.541,16.4951 226.874,21.5108 \n",
       "  202.07,28.248 178.377,36.6395 156.031,46.6013 135.255,58.034 116.258,70.8233 99.2293,84.8414 84.3386,99.9483 71.735,115.993 61.5442,132.815 53.8683,150.247 \n",
       "  48.7838,168.114 46.3416,186.237 46.5661,204.436 49.455,222.53 54.9795,240.336 63.0844,257.677 73.6886,274.38 86.6863,290.278 101.948,305.212 119.32,319.033 \n",
       "  138.63,331.603 159.684,342.796 182.273,352.5 206.17,360.619 231.137,367.071 256.924,371.791 283.273,374.734 309.922,375.869 336.604,375.184 363.053,372.688 \n",
       "  389.004,368.404 414.197,362.375 438.382,354.663 461.317,345.343 482.771,334.509 502.532,322.269 520.402,308.746 536.201,294.074 549.773,278.4 560.981,261.881 \n",
       "  569.713,244.682 575.883,226.975 579.429,208.936 580.315,190.747 578.532,172.587 574.099,154.64 567.059,137.084 557.483,120.095 545.466,103.843 531.129,88.4888 \n",
       "  514.615,74.1874 496.088,61.0813 475.735,49.3012 453.758,38.9651 430.377,30.1761 405.825,23.022 380.348,17.5744 354.201,13.8877 327.644,11.9986 300.944,11.9261 \n",
       "  274.366,13.671 248.176,17.2157 222.636,22.5248 198.002,29.5454 174.519,38.2072 152.422,48.4238 131.931,60.0929 113.252,73.0981 96.5716,87.3094 82.0557,102.585 \n",
       "  69.8496,118.772 60.0753,135.708 52.8304,153.225 48.1874,171.148 46.1926,189.297 46.866,207.491 50.2008,225.549 56.1637,243.289 64.6952,260.535 75.71,277.114 \n",
       "  89.098,292.86 \n",
       "  \"/>\n",
       "<polygon clip-path=\"url(#clip5200)\" points=\"\n",
       "489.608,62.931 562.315,62.931 562.315,32.691 489.608,32.691 \n",
       "  \" fill=\"#ffffff\" fill-opacity=\"1\"/>\n",
       "<polyline clip-path=\"url(#clip5200)\" style=\"stroke:#000000; stroke-width:1; stroke-opacity:1; fill:none\" points=\"\n",
       "  489.608,62.931 562.315,62.931 562.315,32.691 489.608,32.691 489.608,62.931 \n",
       "  \"/>\n",
       "<polyline clip-path=\"url(#clip5200)\" style=\"stroke:#009af9; stroke-width:5; stroke-opacity:1; fill:none\" points=\"\n",
       "  495.608,47.811 531.608,47.811 \n",
       "  \"/>\n",
       "<g clip-path=\"url(#clip5200)\">\n",
       "<text style=\"fill:#000000; fill-opacity:1; font-family:Arial,Helvetica Neue,Helvetica,sans-serif; font-size:12; text-anchor:start;\" transform=\"rotate(0, 537.608, 52.311)\" x=\"537.608\" y=\"52.311\">y1</text>\n",
       "</g>\n",
       "</svg>\n"
      ]
     },
     "execution_count": 3,
     "metadata": {},
     "output_type": "execute_result"
    }
   ],
   "source": [
    "plot(xl[1,:], xl[2,:], linewidth = 5)"
   ]
  },
  {
   "cell_type": "code",
   "execution_count": 4,
   "metadata": {
    "scrolled": false
   },
   "outputs": [
    {
     "name": "stderr",
     "output_type": "stream",
     "text": [
      "\u001b[1m\u001b[36mINFO: \u001b[39m\u001b[22m\u001b[36mSaved animation to /home/luke/workspace/2.152_project/double_integrator.gif\n",
      "\u001b[39m"
     ]
    },
    {
     "data": {
      "text/html": [
       "<img src=\"double_integrator.gif?0.3711506668048914>\" />"
      ],
      "text/plain": [
       "Plots.AnimatedGif(\"/home/luke/workspace/2.152_project/double_integrator.gif\")"
      ]
     },
     "execution_count": 4,
     "metadata": {},
     "output_type": "execute_result"
    }
   ],
   "source": [
    "# initial = x0[1:2]\n",
    "# num_time_steps = length(sol.t)\n",
    "num_time_steps = 50\n",
    "\n",
    "plot(x0, xl[:][1],linewidth=5, xlim=(-2.0,2.0), ylim=(-2.0, 2.0), legend=false)\n",
    "anim = @animate for i = 1:length(tspan)\n",
    "    # Plot the current position\n",
    "    plot([x0[1],xl[1][i]], [x0[2],xl[2][i]], xlim=(-2.0,2.0), ylim=(-2.0, 2.0),linewidth=5)\n",
    "\n",
    "end\n",
    "gif(anim, \"double_integrator.gif\")"
   ]
  },
  {
   "cell_type": "code",
   "execution_count": 5,
   "metadata": {},
   "outputs": [
    {
     "ename": "LoadError",
     "evalue": "\u001b[91mBoundsError\u001b[39m",
     "output_type": "error",
     "traceback": [
      "\u001b[91mBoundsError\u001b[39m",
      "",
      "Stacktrace:",
      " [1] \u001b[1mgetindex\u001b[22m\u001b[22m\u001b[1m(\u001b[22m\u001b[22m::Float64, ::Int64\u001b[1m)\u001b[22m\u001b[22m at \u001b[1m./number.jl:38\u001b[22m\u001b[22m"
     ]
    }
   ],
   "source": [
    "x0[1][2]"
   ]
  },
  {
   "cell_type": "code",
   "execution_count": 10,
   "metadata": {
    "scrolled": false
   },
   "outputs": [
    {
     "name": "stderr",
     "output_type": "stream",
     "text": [
      "\u001b[1m\u001b[36mINFO: \u001b[39m\u001b[22m\u001b[36mSaved animation to /home/luke/workspace/2.152_project/double_integrator.gif\n",
      "\u001b[39m"
     ]
    },
    {
     "data": {
      "text/html": [
       "<img src=\"double_integrator.gif?0.4159890142883369>\" />"
      ],
      "text/plain": [
       "Plots.AnimatedGif(\"/home/luke/workspace/2.152_project/double_integrator.gif\")"
      ]
     },
     "execution_count": 10,
     "metadata": {},
     "output_type": "execute_result"
    }
   ],
   "source": [
    "# 2 Link Arm\n",
    "\n",
    "x0 = [0.0,0.0]\n",
    "theta1 = 0.0:0.1:2*pi\n",
    "theta2 = 0.0:0.1:2*pi\n",
    "\n",
    "xl1 = [cos.(theta1), sin.(theta1)]\n",
    "xl2 = xl1 + [cos.(-theta2), sin.(-theta2)]\n",
    "\n",
    "anim = @animate for i = 1:length(theta1)\n",
    "    # Plot the current position\n",
    "    plot([x0[1],xl1[1][i]], [x0[2],xl1[2][i]], xlim=(-2.0,2.0), ylim=(-2.0, 2.0),linewidth=5)\n",
    "    plot!([xl1[1][i],xl2[1][i]], [xl1[2][i],xl2[2][i]], xlim=(-2.0,2.0), ylim=(-2.0, 2.0),linewidth=5)\n",
    "\n",
    "end\n",
    "gif(anim, \"double_integrator.gif\", fps=30)"
   ]
  },
  {
   "cell_type": "code",
   "execution_count": 7,
   "metadata": {},
   "outputs": [
    {
     "data": {
      "image/svg+xml": [
       "<?xml version=\"1.0\" encoding=\"utf-8\"?>\n",
       "<svg xmlns=\"http://www.w3.org/2000/svg\" xmlns:xlink=\"http://www.w3.org/1999/xlink\" width=\"600\" height=\"400\" viewBox=\"0 0 600 400\">\n",
       "<defs>\n",
       "  <clipPath id=\"clip0800\">\n",
       "    <rect x=\"0\" y=\"0\" width=\"600\" height=\"400\"/>\n",
       "  </clipPath>\n",
       "</defs>\n",
       "<polygon clip-path=\"url(#clip0800)\" points=\"\n",
       "0,400 600,400 600,0 0,0 \n",
       "  \" fill=\"#ffffff\" fill-opacity=\"1\"/>\n",
       "<defs>\n",
       "  <clipPath id=\"clip0801\">\n",
       "    <rect x=\"120\" y=\"0\" width=\"421\" height=\"400\"/>\n",
       "  </clipPath>\n",
       "</defs>\n",
       "<polygon clip-path=\"url(#clip0800)\" points=\"\n",
       "32.4745,375.869 580.315,375.869 580.315,11.811 32.4745,11.811 \n",
       "  \" fill=\"#ffffff\" fill-opacity=\"1\"/>\n",
       "<defs>\n",
       "  <clipPath id=\"clip0802\">\n",
       "    <rect x=\"32\" y=\"11\" width=\"549\" height=\"365\"/>\n",
       "  </clipPath>\n",
       "</defs>\n",
       "<polyline clip-path=\"url(#clip0802)\" style=\"stroke:#000000; stroke-width:0.5; stroke-opacity:0.1; fill:none\" points=\"\n",
       "  32.4745,375.869 32.4745,11.811 \n",
       "  \"/>\n",
       "<polyline clip-path=\"url(#clip0802)\" style=\"stroke:#000000; stroke-width:0.5; stroke-opacity:0.1; fill:none\" points=\"\n",
       "  187.427,375.869 187.427,11.811 \n",
       "  \"/>\n",
       "<polyline clip-path=\"url(#clip0802)\" style=\"stroke:#000000; stroke-width:0.5; stroke-opacity:0.1; fill:none\" points=\"\n",
       "  342.38,375.869 342.38,11.811 \n",
       "  \"/>\n",
       "<polyline clip-path=\"url(#clip0802)\" style=\"stroke:#000000; stroke-width:0.5; stroke-opacity:0.1; fill:none\" points=\"\n",
       "  497.333,375.869 497.333,11.811 \n",
       "  \"/>\n",
       "<polyline clip-path=\"url(#clip0802)\" style=\"stroke:#000000; stroke-width:0.5; stroke-opacity:0.1; fill:none\" points=\"\n",
       "  32.4745,375.869 580.315,375.869 \n",
       "  \"/>\n",
       "<polyline clip-path=\"url(#clip0802)\" style=\"stroke:#000000; stroke-width:0.5; stroke-opacity:0.1; fill:none\" points=\"\n",
       "  32.4745,272.898 580.315,272.898 \n",
       "  \"/>\n",
       "<polyline clip-path=\"url(#clip0802)\" style=\"stroke:#000000; stroke-width:0.5; stroke-opacity:0.1; fill:none\" points=\"\n",
       "  32.4745,169.927 580.315,169.927 \n",
       "  \"/>\n",
       "<polyline clip-path=\"url(#clip0802)\" style=\"stroke:#000000; stroke-width:0.5; stroke-opacity:0.1; fill:none\" points=\"\n",
       "  32.4745,66.9555 580.315,66.9555 \n",
       "  \"/>\n",
       "<polyline clip-path=\"url(#clip0800)\" style=\"stroke:#000000; stroke-width:1; stroke-opacity:1; fill:none\" points=\"\n",
       "  32.4745,375.869 580.315,375.869 \n",
       "  \"/>\n",
       "<polyline clip-path=\"url(#clip0800)\" style=\"stroke:#000000; stroke-width:1; stroke-opacity:1; fill:none\" points=\"\n",
       "  32.4745,375.869 32.4745,11.811 \n",
       "  \"/>\n",
       "<polyline clip-path=\"url(#clip0800)\" style=\"stroke:#000000; stroke-width:1; stroke-opacity:1; fill:none\" points=\"\n",
       "  32.4745,375.869 32.4745,370.408 \n",
       "  \"/>\n",
       "<polyline clip-path=\"url(#clip0800)\" style=\"stroke:#000000; stroke-width:1; stroke-opacity:1; fill:none\" points=\"\n",
       "  187.427,375.869 187.427,370.408 \n",
       "  \"/>\n",
       "<polyline clip-path=\"url(#clip0800)\" style=\"stroke:#000000; stroke-width:1; stroke-opacity:1; fill:none\" points=\"\n",
       "  342.38,375.869 342.38,370.408 \n",
       "  \"/>\n",
       "<polyline clip-path=\"url(#clip0800)\" style=\"stroke:#000000; stroke-width:1; stroke-opacity:1; fill:none\" points=\"\n",
       "  497.333,375.869 497.333,370.408 \n",
       "  \"/>\n",
       "<polyline clip-path=\"url(#clip0800)\" style=\"stroke:#000000; stroke-width:1; stroke-opacity:1; fill:none\" points=\"\n",
       "  32.4745,375.869 40.6921,375.869 \n",
       "  \"/>\n",
       "<polyline clip-path=\"url(#clip0800)\" style=\"stroke:#000000; stroke-width:1; stroke-opacity:1; fill:none\" points=\"\n",
       "  32.4745,272.898 40.6921,272.898 \n",
       "  \"/>\n",
       "<polyline clip-path=\"url(#clip0800)\" style=\"stroke:#000000; stroke-width:1; stroke-opacity:1; fill:none\" points=\"\n",
       "  32.4745,169.927 40.6921,169.927 \n",
       "  \"/>\n",
       "<polyline clip-path=\"url(#clip0800)\" style=\"stroke:#000000; stroke-width:1; stroke-opacity:1; fill:none\" points=\"\n",
       "  32.4745,66.9555 40.6921,66.9555 \n",
       "  \"/>\n",
       "<g clip-path=\"url(#clip0800)\">\n",
       "<text style=\"fill:#000000; fill-opacity:1; font-family:Arial,Helvetica Neue,Helvetica,sans-serif; font-size:12; text-anchor:middle;\" transform=\"rotate(0, 32.4745, 389.669)\" x=\"32.4745\" y=\"389.669\">0.0</text>\n",
       "</g>\n",
       "<g clip-path=\"url(#clip0800)\">\n",
       "<text style=\"fill:#000000; fill-opacity:1; font-family:Arial,Helvetica Neue,Helvetica,sans-serif; font-size:12; text-anchor:middle;\" transform=\"rotate(0, 187.427, 389.669)\" x=\"187.427\" y=\"389.669\">0.2</text>\n",
       "</g>\n",
       "<g clip-path=\"url(#clip0800)\">\n",
       "<text style=\"fill:#000000; fill-opacity:1; font-family:Arial,Helvetica Neue,Helvetica,sans-serif; font-size:12; text-anchor:middle;\" transform=\"rotate(0, 342.38, 389.669)\" x=\"342.38\" y=\"389.669\">0.4</text>\n",
       "</g>\n",
       "<g clip-path=\"url(#clip0800)\">\n",
       "<text style=\"fill:#000000; fill-opacity:1; font-family:Arial,Helvetica Neue,Helvetica,sans-serif; font-size:12; text-anchor:middle;\" transform=\"rotate(0, 497.333, 389.669)\" x=\"497.333\" y=\"389.669\">0.6</text>\n",
       "</g>\n",
       "<g clip-path=\"url(#clip0800)\">\n",
       "<text style=\"fill:#000000; fill-opacity:1; font-family:Arial,Helvetica Neue,Helvetica,sans-serif; font-size:12; text-anchor:end;\" transform=\"rotate(0, 26.4745, 380.369)\" x=\"26.4745\" y=\"380.369\">0.0</text>\n",
       "</g>\n",
       "<g clip-path=\"url(#clip0800)\">\n",
       "<text style=\"fill:#000000; fill-opacity:1; font-family:Arial,Helvetica Neue,Helvetica,sans-serif; font-size:12; text-anchor:end;\" transform=\"rotate(0, 26.4745, 277.398)\" x=\"26.4745\" y=\"277.398\">0.2</text>\n",
       "</g>\n",
       "<g clip-path=\"url(#clip0800)\">\n",
       "<text style=\"fill:#000000; fill-opacity:1; font-family:Arial,Helvetica Neue,Helvetica,sans-serif; font-size:12; text-anchor:end;\" transform=\"rotate(0, 26.4745, 174.427)\" x=\"26.4745\" y=\"174.427\">0.4</text>\n",
       "</g>\n",
       "<g clip-path=\"url(#clip0800)\">\n",
       "<text style=\"fill:#000000; fill-opacity:1; font-family:Arial,Helvetica Neue,Helvetica,sans-serif; font-size:12; text-anchor:end;\" transform=\"rotate(0, 26.4745, 71.4555)\" x=\"26.4745\" y=\"71.4555\">0.6</text>\n",
       "</g>\n",
       "<polyline clip-path=\"url(#clip0802)\" style=\"stroke:#009af9; stroke-width:1; stroke-opacity:1; fill:none\" points=\"\n",
       "  32.4745,375.869 580.315,11.811 \n",
       "  \"/>\n",
       "<polygon clip-path=\"url(#clip0800)\" points=\"\n",
       "489.608,62.931 562.315,62.931 562.315,32.691 489.608,32.691 \n",
       "  \" fill=\"#ffffff\" fill-opacity=\"1\"/>\n",
       "<polyline clip-path=\"url(#clip0800)\" style=\"stroke:#000000; stroke-width:1; stroke-opacity:1; fill:none\" points=\"\n",
       "  489.608,62.931 562.315,62.931 562.315,32.691 489.608,32.691 489.608,62.931 \n",
       "  \"/>\n",
       "<polyline clip-path=\"url(#clip0800)\" style=\"stroke:#009af9; stroke-width:1; stroke-opacity:1; fill:none\" points=\"\n",
       "  495.608,47.811 531.608,47.811 \n",
       "  \"/>\n",
       "<g clip-path=\"url(#clip0800)\">\n",
       "<text style=\"fill:#000000; fill-opacity:1; font-family:Arial,Helvetica Neue,Helvetica,sans-serif; font-size:12; text-anchor:start;\" transform=\"rotate(0, 537.608, 52.311)\" x=\"537.608\" y=\"52.311\">y1</text>\n",
       "</g>\n",
       "</svg>\n"
      ]
     },
     "execution_count": 7,
     "metadata": {},
     "output_type": "execute_result"
    }
   ],
   "source": [
    "x0 = [0., 0.]\n",
    "x1 = [sqrt(2)/2, sqrt(2)/2]\n",
    "\n",
    "plot([x0[1], x1[1]],[x0[2],x1[2]])"
   ]
  },
  {
   "cell_type": "code",
   "execution_count": null,
   "metadata": {},
   "outputs": [],
   "source": []
  }
 ],
 "metadata": {
  "kernelspec": {
   "display_name": "Julia 0.6.2",
   "language": "julia",
   "name": "julia-0.6"
  },
  "language_info": {
   "file_extension": ".jl",
   "mimetype": "application/julia",
   "name": "julia",
   "version": "0.6.2"
  }
 },
 "nbformat": 4,
 "nbformat_minor": 2
}
