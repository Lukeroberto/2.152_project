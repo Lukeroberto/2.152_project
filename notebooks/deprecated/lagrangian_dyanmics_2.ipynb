{
 "cells": [
  {
   "cell_type": "code",
   "execution_count": 1,
   "metadata": {
    "scrolled": true
   },
   "outputs": [],
   "source": [
    "using SymPy"
   ]
  },
  {
   "cell_type": "code",
   "execution_count": 7,
   "metadata": {},
   "outputs": [
    {
     "data": {
      "text/plain": [
       "(m, l, g, theta, dtheta, ddtheta)"
      ]
     },
     "execution_count": 7,
     "metadata": {},
     "output_type": "execute_result"
    }
   ],
   "source": [
    "@syms m l g theta dtheta ddtheta"
   ]
  },
  {
   "cell_type": "code",
   "execution_count": 9,
   "metadata": {},
   "outputs": [
    {
     "data": {
      "text/latex": [
       "$$2$$"
      ],
      "text/plain": [
       "2"
      ]
     },
     "execution_count": 9,
     "metadata": {},
     "output_type": "execute_result"
    }
   ],
   "source": [
    "diff(2*m,m)"
   ]
  },
  {
   "cell_type": "code",
   "execution_count": 11,
   "metadata": {},
   "outputs": [
    {
     "data": {
      "text/plain": [
       "2-element Array{Int64,1}:\n",
       " 0\n",
       " 1"
      ]
     },
     "execution_count": 11,
     "metadata": {},
     "output_type": "execute_result"
    }
   ],
   "source": [
    "q = theta\n",
    "dq = dtheta\n",
    "ddq = ddtheta\n",
    "\n",
    "ihat = [1;0]\n",
    "jhat = [0;1]"
   ]
  },
  {
   "cell_type": "code",
   "execution_count": 14,
   "metadata": {},
   "outputs": [
    {
     "data": {
      "text/plain": [
       "jac (generic function with 1 method)"
      ]
     },
     "execution_count": 14,
     "metadata": {},
     "output_type": "execute_result"
    }
   ],
   "source": [
    "function jac(f,x)\n",
    "    m = length(f)\n",
    "    n = length(x)\n",
    "    \n",
    "    jac = [diff(f[i],x[j]) for i in 1:m, j in 1:n]\n",
    "    \n",
    "    return jac\n",
    "end"
   ]
  },
  {
   "cell_type": "code",
   "execution_count": 15,
   "metadata": {},
   "outputs": [
    {
     "data": {
      "text/plain": [
       "(::#3) (generic function with 1 method)"
      ]
     },
     "execution_count": 15,
     "metadata": {},
     "output_type": "execute_result"
    }
   ],
   "source": [
    "ddt = r -> jac(r, [q;dq])*[dq;ddq]"
   ]
  },
  {
   "cell_type": "code",
   "execution_count": 16,
   "metadata": {},
   "outputs": [
    {
     "name": "stdout",
     "output_type": "stream",
     "text": [
      "SymPy.Sym[l*sin(theta), l*cos(theta)]\n",
      "SymPy.Sym[dtheta*l*cos(theta), -dtheta*l*sin(theta)]\n"
     ]
    }
   ],
   "source": [
    "r = l*sin(q)*ihat + l*cos(q)*jhat\n",
    "dr = ddt(r)\n",
    "\n",
    "println(r)\n",
    "println(dr)"
   ]
  },
  {
   "cell_type": "code",
   "execution_count": 20,
   "metadata": {},
   "outputs": [
    {
     "data": {
      "text/latex": [
       "$$0.5 dtheta l m \\sin{\\left (\\theta \\right )} \\sin{\\left (\\overline{\\theta} \\right )} \\overline{dtheta} \\overline{l} + 0.5 dtheta l m \\cos{\\left (\\theta \\right )} \\cos{\\left (\\overline{\\theta} \\right )} \\overline{dtheta} \\overline{l} - g m \\cos{\\left (\\overline{\\theta} \\right )} \\overline{l}$$"
      ],
      "text/plain": [
       "                             /_____\\ ______ _                                /\n",
       "0.5*dtheta*l*m*sin(theta)*sin\\theta/*dtheta*l + 0.5*dtheta*l*m*cos(theta)*cos\\\n",
       "\n",
       "_____\\ ______ _          /_____\\ _\n",
       "theta/*dtheta*l - g*m*cos\\theta/*l"
      ]
     },
     "execution_count": 20,
     "metadata": {},
     "output_type": "execute_result"
    }
   ],
   "source": [
    "K = 0.5*m*dr'*dr\n",
    "U = m*g*dot(r,jhat)\n",
    "\n",
    "L = K-U"
   ]
  },
  {
   "cell_type": "code",
   "execution_count": null,
   "metadata": {},
   "outputs": [],
   "source": []
  }
 ],
 "metadata": {
  "kernelspec": {
   "display_name": "Julia 0.6.2",
   "language": "julia",
   "name": "julia-0.6"
  },
  "language_info": {
   "file_extension": ".jl",
   "mimetype": "application/julia",
   "name": "julia",
   "version": "0.6.2"
  }
 },
 "nbformat": 4,
 "nbformat_minor": 2
}
