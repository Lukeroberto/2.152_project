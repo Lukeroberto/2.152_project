{
 "cells": [
  {
   "cell_type": "markdown",
   "metadata": {},
   "source": [
    "# 2 Link Robotic Arm\n",
    "\n",
    "This notebook will run simple control on a robotic arm"
   ]
  },
  {
   "cell_type": "code",
   "execution_count": 1,
   "metadata": {},
   "outputs": [],
   "source": [
    "# Using Rigid Body Packages\n",
    "\n",
    "using RigidBodySim\n",
    "using RigidBodyDynamics"
   ]
  },
  {
   "cell_type": "code",
   "execution_count": 2,
   "metadata": {},
   "outputs": [],
   "source": [
    "# Grab the urdf file\n",
    "urdf_loc = \"/home/luke/workspace/2.152_project/dynamics/arm.urdf\"\n",
    "\n",
    "# Parse into a mechanism\n",
    "mechanism = parse_urdf(Float64,urdf_loc)\n",
    "remove_fixed_tree_joints!(mechanism);"
   ]
  },
  {
   "cell_type": "code",
   "execution_count": 3,
   "metadata": {},
   "outputs": [],
   "source": [
    "# Initial conditions\n",
    "state = MechanismState(mechanism)\n",
    "shoulder, elbow = joints(mechanism)\n",
    "\n",
    "configuration(state, shoulder) .= pi/2\n",
    "configuration(state, elbow) .= 0.\n",
    "velocity(state, shoulder) .= 0.\n",
    "velocity(state, shoulder) .= 0.;"
   ]
  },
  {
   "cell_type": "code",
   "execution_count": 4,
   "metadata": {},
   "outputs": [],
   "source": [
    "# Open loop dyanmics\n",
    "\n",
    "ol = Dynamics(mechanism);"
   ]
  },
  {
   "cell_type": "markdown",
   "metadata": {},
   "source": [
    "# Visualization\n",
    "\n",
    "Visualizing the open loop dynamics"
   ]
  },
  {
   "cell_type": "code",
   "execution_count": 5,
   "metadata": {},
   "outputs": [],
   "source": [
    "using MechanismGeometries\n",
    "visuals = URDFVisuals(urdf_loc);"
   ]
  },
  {
   "cell_type": "code",
   "execution_count": 6,
   "metadata": {},
   "outputs": [
    {
     "data": {
      "text/html": [
       "<div id=\"interact-js-shim\">\n",
       "    <script charset=\"utf-8\">\n",
       "(function (IPython, $, _, MathJax) {\n",
       "    $.event.special.destroyed = {\n",
       "\tremove: function(o) {\n",
       "\t    if (o.handler) {\n",
       "\t\to.handler.apply(this, arguments)\n",
       "\t    }\n",
       "\t}\n",
       "    }\n",
       "\n",
       "    var OutputArea = IPython.version >= \"4.0.0\" ? require(\"notebook/js/outputarea\").OutputArea : IPython.OutputArea;\n",
       "\n",
       "    var redrawValue = function (container, type, val) {\n",
       "\tvar selector = $(\"<div/>\");\n",
       "\tvar oa = new OutputArea(_.extend(selector, {\n",
       "\t    selector: selector,\n",
       "\t    prompt_area: true,\n",
       "\t    events: IPython.events,\n",
       "\t    keyboard_manager: IPython.keyboard_manager\n",
       "\t})); // Hack to work with IPython 2.1.0\n",
       "\n",
       "\tswitch (type) {\n",
       "\tcase \"image/png\":\n",
       "            var _src = 'data:' + type + ';base64,' + val;\n",
       "\t    $(container).find(\"img\").attr('src', _src);\n",
       "\t    break;\n",
       "\tcase \"text/latex\":\n",
       "\t\tif (MathJax){\n",
       "\t\t\tvar math = MathJax.Hub.getAllJax(container)[0];\n",
       "\t\t\tMathJax.Hub.Queue([\"Text\", math, val.replace(/^\\${1,2}|\\${1,2}$/g, '')]);\n",
       "\t\t\tbreak;\n",
       "\t\t}\n",
       "\tdefault:\n",
       "\t    var toinsert = OutputArea.append_map[type].apply(\n",
       "\t\toa, [val, {}, selector]\n",
       "\t    );\n",
       "\t    $(container).empty().append(toinsert.contents());\n",
       "\t    selector.remove();\n",
       "\t}\n",
       "    }\n",
       "\n",
       "\n",
       "    $(document).ready(function() {\n",
       "\tfunction initComm(evt, data) {\n",
       "\t    var comm_manager = data.kernel.comm_manager;\n",
       "        //_.extend(comm_manager.targets, require(\"widgets/js/widget\"))\n",
       "\t    comm_manager.register_target(\"Signal\", function (comm) {\n",
       "            comm.on_msg(function (msg) {\n",
       "                var val = msg.content.data.value;\n",
       "                $(\".signal-\" + comm.comm_id).each(function() {\n",
       "                var type = $(this).data(\"type\");\n",
       "                if (typeof(val[type]) !== \"undefined\" && val[type] !== null) {\n",
       "                    redrawValue(this, type, val[type], type);\n",
       "                }\n",
       "                });\n",
       "                delete val;\n",
       "                delete msg.content.data.value;\n",
       "            });\n",
       "\t    });\n",
       "\n",
       "\t    // coordingate with Comm and redraw Signals\n",
       "\t    // XXX: Test using Reactive here to improve performance\n",
       "\t    $([IPython.events]).on(\n",
       "\t\t'output_appended.OutputArea', function (event, type, value, md, toinsert) {\n",
       "\t\t    if (md && md.reactive) {\n",
       "                // console.log(md.comm_id);\n",
       "                toinsert.addClass(\"signal-\" + md.comm_id);\n",
       "                toinsert.data(\"type\", type);\n",
       "                // Signal back indicating the mimetype required\n",
       "                var comm_manager = IPython.notebook.kernel.comm_manager;\n",
       "                var comm = comm_manager.comms[md.comm_id];\n",
       "                comm.then(function (c) {\n",
       "                    c.send({action: \"subscribe_mime\",\n",
       "                       mime: type});\n",
       "                    toinsert.bind(\"destroyed\", function() {\n",
       "                        c.send({action: \"unsubscribe_mime\",\n",
       "                               mime: type});\n",
       "                    });\n",
       "                })\n",
       "\t\t    }\n",
       "\t    });\n",
       "\t}\n",
       "\n",
       "\ttry {\n",
       "\t    // try to initialize right away. otherwise, wait on the status_started event.\n",
       "\t    initComm(undefined, IPython.notebook);\n",
       "\t} catch (e) {\n",
       "\t    $([IPython.events]).on('kernel_created.Kernel kernel_created.Session', initComm);\n",
       "\t}\n",
       "    });\n",
       "})(IPython, jQuery, _, MathJax);\n",
       "</script>\n",
       "    <script>\n",
       "        window.interactLoadedFlag = true\n",
       "       $(\"#interact-js-shim\").bind(\"destroyed\", function () {\n",
       "           if (window.interactLoadedFlag) {\n",
       "               console.warn(\"JavaScript required by Interact will be removed if you remove this cell or run using Interact more than once.\")\n",
       "           }\n",
       "       })\n",
       "       $([IPython.events]).on(\"kernel_starting.Kernel kernel_restarting.Kernel\", function () { window.interactLoadedFlag = false })\n",
       "   </script>\n",
       "</div>"
      ]
     },
     "metadata": {},
     "output_type": "display_data"
    }
   ],
   "source": [
    "import RigidBodyTreeInspector: Visualizer\n",
    "using RigidBodySim.Visualization.RigidBodyTreeInspectorInterface\n"
   ]
  },
  {
   "cell_type": "code",
   "execution_count": 7,
   "metadata": {},
   "outputs": [],
   "source": [
    "vis = Visualizer(mechanism, visual_elements(mechanism, visuals));"
   ]
  },
  {
   "cell_type": "code",
   "execution_count": 8,
   "metadata": {
    "scrolled": true
   },
   "outputs": [],
   "source": [
    "problem = ODEProblem(ol, state, (0., Inf))\n",
    "vis_callbacks = CallbackSet(vis, state);\n",
    "rate_limiter = RealtimeRateLimiter(max_rate = 1.)\n",
    "callbacks = CallbackSet(vis_callbacks, rate_limiter); # this is how you combine callbacks\n"
   ]
  },
  {
   "cell_type": "code",
   "execution_count": 77,
   "metadata": {},
   "outputs": [],
   "source": [
    "solve(problem, Tsit5(), abs_tol = 1e-10, dt = 0.05, callback = callbacks);"
   ]
  },
  {
   "cell_type": "code",
   "execution_count": 9,
   "metadata": {},
   "outputs": [
    {
     "name": "stderr",
     "output_type": "stream",
     "text": [
      "\n",
      "(drake-visualizer:16430): Gtk-WARNING **: Unable to locate theme engine in module_path: \"adwaita\",\n"
     ]
    }
   ],
   "source": [
    "window(vis)"
   ]
  },
  {
   "cell_type": "markdown",
   "metadata": {},
   "source": [
    "# Control Scheme"
   ]
  },
  {
   "cell_type": "code",
   "execution_count": 42,
   "metadata": {},
   "outputs": [
    {
     "data": {
      "text/plain": [
       "control! (generic function with 1 method)"
      ]
     },
     "execution_count": 42,
     "metadata": {},
     "output_type": "execute_result"
    }
   ],
   "source": [
    "function control!(τ, t, state)\n",
    "    \n",
    "    t1_d = pi/2\n",
    "    t2_d = sin(2*pi*t)\n",
    "    \n",
    "    t1 = configuration(state,shoulder)\n",
    "    t2 = configuration(state,elbow)\n",
    "    \n",
    "    t1_dot = velocity(state,shoulder)\n",
    "    t2_dot = velocity(state,elbow)\n",
    "    \n",
    "    λ = 141\n",
    "    view(τ, velocity_range(state, shoulder))[:] .= -λ^2*(t1 - t1_d ) - 2*λ*t1_dot\n",
    "    view(τ, velocity_range(state, elbow)) .= -λ^2*(t2 - t2_d) - 2*λ*t2_dot\n",
    "end"
   ]
  },
  {
   "cell_type": "code",
   "execution_count": 43,
   "metadata": {},
   "outputs": [],
   "source": [
    "closed_loop_dynamics = Dynamics(mechanism, control!)\n",
    "zero!(state)\n",
    "controlproblem = ODEProblem(closed_loop_dynamics, state, (0., Inf));"
   ]
  },
  {
   "cell_type": "code",
   "execution_count": 44,
   "metadata": {},
   "outputs": [],
   "source": [
    "sol = solve(controlproblem, Vern7(), abs_tol = 1e-10, dt = 0.05,callback = callbacks);"
   ]
  },
  {
   "cell_type": "markdown",
   "metadata": {},
   "source": [
    "# Sliding Control\n"
   ]
  },
  {
   "cell_type": "code",
   "execution_count": 11,
   "metadata": {},
   "outputs": [
    {
     "name": "stdout",
     "output_type": "stream",
     "text": [
      "Mass Matrix: [2.913 1.08; 1.08 0.58]\n",
      "\n",
      "Dynamic Bias: [0.0, 0.0]\n"
     ]
    }
   ],
   "source": [
    "M = mass_matrix(MechanismState(mechanism))\n",
    "c = dynamics_bias(MechanismState(mechanism))\n",
    "\n",
    "println(\"Mass Matrix: \", M)\n",
    "println(\"\\nDynamic Bias: \", c)"
   ]
  },
  {
   "cell_type": "code",
   "execution_count": 10,
   "metadata": {},
   "outputs": [
    {
     "data": {
      "text/plain": [
       "sliding_mode (generic function with 1 method)"
      ]
     },
     "execution_count": 10,
     "metadata": {},
     "output_type": "execute_result"
    }
   ],
   "source": [
    "function sliding_mode(τ, t::Float64, state, p)\n",
    "    λ = p[1]\n",
    "\n",
    "    t1_d   = p[2](t)\n",
    "    dt1_d  = p[3](t)\n",
    "    ddt1_d = p[4](t)\n",
    "    \n",
    "    t2_d   = p[5](t)\n",
    "    dt2_d  = p[6](t)\n",
    "    ddt2_d = p[7](t)\n",
    "    \n",
    "    ddt_d  = [ddt1_d;ddt2_d]\n",
    "\n",
    "    t1 = configuration(state, shoulder)\n",
    "    t2 = configuration(state, elbow)\n",
    "    \n",
    "    dt1 = velocity(state, shoulder)\n",
    "    dt2 = velocity(state, elbow)\n",
    "\n",
    "    M = mass_matrix(state)\n",
    "    M_inv = inv(M)\n",
    "    \n",
    "    e1 = t1 - t1_d\n",
    "    e2 = t2 - t2_d\n",
    "    e  = [e1;e2]\n",
    "    \n",
    "    de1 = dt1 - dt1_d \n",
    "    de2 = dt2 - dt2_d\n",
    "    de  = [de1;de2]\n",
    "    \n",
    "    c = dynamics_bias(state)\n",
    "\n",
    "    val = M*(ddt_d - 2*λ*de - λ^2*e) + c\n",
    "#     println(val)\n",
    "    view(τ, velocity_range(state, shoulder))[:] .= val[1]\n",
    "    view(τ, velocity_range(state, elbow))    .= val[2]\n",
    "    \n",
    "end"
   ]
  },
  {
   "cell_type": "code",
   "execution_count": 15,
   "metadata": {},
   "outputs": [],
   "source": [
    "# Setup problem\n",
    "\n",
    "# Desired convergence rate\n",
    "l_d = 20.\n",
    "# Desired trajectory\n",
    "q1_d(t) = pi/2#(pi/2 + pi/6)*(1-cos(2*pi*t))\n",
    "dq1_d(t) = ForwardDiff.derivative(q1_d,t)\n",
    "ddq1_d(t) = ForwardDiff.derivative(dq1_d,t)\n",
    "\n",
    "q2_d(t) = pi/4#(pi/4)*(1-cos(2*pi*t))\n",
    "dq2_d(t) = ForwardDiff.derivative(q2_d,t)\n",
    "ddq2_d(t) = ForwardDiff.derivative(dq2_d,t)\n",
    "\n",
    "p = [l_d, q1_d, dq1_d, ddq1_d, q2_d, dq2_d, ddq2_d]\n",
    "\n",
    "controller!(τ, t, state) = sliding_mode(τ, t, state, p)\n",
    "\n",
    "closed_loop_dynamics = Dynamics(mechanism, controller!)\n",
    "zero!(state)\n",
    "controlproblem = ODEProblem(closed_loop_dynamics, state, (0.,Inf));"
   ]
  },
  {
   "cell_type": "code",
   "execution_count": 16,
   "metadata": {},
   "outputs": [],
   "source": [
    "sol = solve(controlproblem, Vern7(), abs_tol = 1e-10, dt = 0.05,callback = callbacks);"
   ]
  },
  {
   "cell_type": "markdown",
   "metadata": {},
   "source": [
    "# Trajectory Tracking"
   ]
  },
  {
   "cell_type": "code",
   "execution_count": 74,
   "metadata": {},
   "outputs": [
    {
     "data": {
      "text/plain": [
       "inverse_kinematics (generic function with 2 methods)"
      ]
     },
     "execution_count": 74,
     "metadata": {},
     "output_type": "execute_result"
    }
   ],
   "source": [
    "function inverse_kinematics(x_d::Float64,y_d::Float64, l1::Float64, l2::Float64)\n",
    "    \n",
    "    r = sqrt(x_d^2 + y_d^2)\n",
    "    \n",
    "    t2 = pi - acos((r^2-l1^2 -l2^2)/(2*l1*l2))\n",
    "    t1 = atan2(y_d,x_d) - atan2(l2*sin(t2), l1 + l2*cos(t2))\n",
    "    \n",
    "    t1,t2\n",
    "end\n",
    "    "
   ]
  },
  {
   "cell_type": "code",
   "execution_count": 75,
   "metadata": {},
   "outputs": [
    {
     "ename": "LoadError",
     "evalue": "\u001b[91mMethodError: no method matching *(::#x, ::#x)\u001b[0m\nClosest candidates are:\n  *(::Any, ::Any, \u001b[91m::Any\u001b[39m, \u001b[91m::Any...\u001b[39m) at operators.jl:424\u001b[39m",
     "output_type": "error",
     "traceback": [
      "\u001b[91mMethodError: no method matching *(::#x, ::#x)\u001b[0m\nClosest candidates are:\n  *(::Any, ::Any, \u001b[91m::Any\u001b[39m, \u001b[91m::Any...\u001b[39m) at operators.jl:424\u001b[39m",
      "",
      "Stacktrace:",
      " [1] \u001b[1mpower_by_squaring\u001b[22m\u001b[22m\u001b[1m(\u001b[22m\u001b[22m::Function, ::Int64\u001b[1m)\u001b[22m\u001b[22m at \u001b[1m./intfuncs.jl:169\u001b[22m\u001b[22m",
      " [2] \u001b[1minverse_kinematics\u001b[22m\u001b[22m\u001b[1m(\u001b[22m\u001b[22m::Function, ::Function, ::Float64, ::Float64\u001b[1m)\u001b[22m\u001b[22m at \u001b[1m./In[74]:3\u001b[22m\u001b[22m"
     ]
    }
   ],
   "source": [
    "x(t) = 1 + 0.5*cos(t)\n",
    "y(t) = 1 + 0.5*sin(t)\n",
    "\n",
    "t1(t), t2(t) = inverse_kinematics(x,y,1.,1.)"
   ]
  },
  {
   "cell_type": "code",
   "execution_count": null,
   "metadata": {},
   "outputs": [],
   "source": [
    "function trajectory_control(τ, t::Float64, state, p)\n",
    "    λ = p[1]\n",
    "\n",
    "    t1_d   = p[2](t)\n",
    "    dt1_d  = p[3](t)\n",
    "\n",
    "    \n",
    "    t2_d   = p[5](t)\n",
    "    dt2_d  = p[6](t)\n",
    "    ddt2_d = p[7](t)\n",
    "    \n",
    "    ddt_d  = [ddt1_d;ddt2_d]\n",
    "\n",
    "    t1 = configuration(state, shoulder)\n",
    "    t2 = configuration(state, elbow)\n",
    "    \n",
    "    dt1 = velocity(state, shoulder)\n",
    "    dt2 = velocity(state, elbow)\n",
    "\n",
    "    M = mass_matrix(state)\n",
    "    M_inv = inv(M)\n",
    "    \n",
    "    e1 = t1 - t1_d\n",
    "    e2 = t2 - t2_d\n",
    "    e  = [e1;e2]\n",
    "    \n",
    "    de1 = dt1 - dt1_d \n",
    "    de2 = dt2 - dt2_d\n",
    "    de  = [de1;de2]\n",
    "    \n",
    "    c = dynamics_bias(state)\n",
    "\n",
    "    val = M*(ddt_d - 2*λ*de - λ^2*e) + c\n",
    "#     println(val)\n",
    "    view(τ, velocity_range(state, shoulder))[:] .= val[1]\n",
    "    view(τ, velocity_range(state, elbow))    .= val[2]\n",
    "    \n",
    "end"
   ]
  },
  {
   "cell_type": "code",
   "execution_count": null,
   "metadata": {},
   "outputs": [],
   "source": [
    "# # Setup problem\n",
    "\n",
    "# # Desired convergence rate\n",
    "# l_d = 5\n",
    "\n",
    "# # XY trajectory\n",
    "# x(t) = 1 + 0.5*cos(t)\n",
    "# y(t) = 1 + 0.5*sin(t)\n",
    "\n",
    "# t1(t), t2(t) = inverse_kinematics()\n",
    "\n",
    "# # Desired trajectory\n",
    "# q1_d(t) = 2*sin(5*t)\n",
    "# dq1_d(t) = ForwardDiff.derivative(q1_d,t)\n",
    "# ddq1_d(t) = ForwardDiff.derivative(dq1_d,t)\n",
    "\n",
    "# q2_d(t) = sin(5*t)\n",
    "# dq2_d(t) = ForwardDiff.derivative(q2_d,t)\n",
    "# ddq2_d(t) = ForwardDiff.derivative(dq2_d,t)\n",
    "\n",
    "# p = [l_d, q1_d, dq1_d, ddq1_d, q2_d, dq2_d, ddq2_d]\n",
    "\n",
    "# controller!(τ, t, state) = sliding_mode(τ, t, state, p)\n",
    "\n",
    "# closed_loop_dynamics = Dynamics(mechanism, controller!)\n",
    "# zero!(state)\n",
    "# controlproblem = ODEProblem(closed_loop_dynamics, state, (0.,10.0));"
   ]
  }
 ],
 "metadata": {
  "kernelspec": {
   "display_name": "Julia 0.6.2",
   "language": "julia",
   "name": "julia-0.6"
  },
  "language_info": {
   "file_extension": ".jl",
   "mimetype": "application/julia",
   "name": "julia",
   "version": "0.6.2"
  }
 },
 "nbformat": 4,
 "nbformat_minor": 2
}
