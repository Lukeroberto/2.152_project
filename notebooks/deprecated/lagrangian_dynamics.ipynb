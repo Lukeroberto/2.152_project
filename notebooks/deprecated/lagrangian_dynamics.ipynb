{
 "cells": [
  {
   "cell_type": "code",
   "execution_count": 1,
   "metadata": {},
   "outputs": [
    {
     "name": "stderr",
     "output_type": "stream",
     "text": [
      "\u001b[1m\u001b[36mINFO: \u001b[39m\u001b[22m\u001b[36mRecompiling stale cache file /home/luke/.julia/lib/v0.6/Showoff.ji for module Showoff.\n",
      "\u001b[39m\u001b[1m\u001b[36mINFO: \u001b[39m\u001b[22m\u001b[36mRecompiling stale cache file /home/luke/.julia/lib/v0.6/Plots.ji for module Plots.\n",
      "\u001b[39m\u001b[1m\u001b[36mINFO: \u001b[39m\u001b[22m\u001b[36mRecompiling stale cache file /home/luke/.julia/lib/v0.6/DiffEqNoiseProcess.ji for module DiffEqNoiseProcess.\n",
      "\u001b[39m\u001b[1m\u001b[36mINFO: \u001b[39m\u001b[22m\u001b[36mRecompiling stale cache file /home/luke/.julia/lib/v0.6/DifferentialEquations.ji for module DifferentialEquations.\n",
      "\u001b[39m"
     ]
    },
    {
     "data": {
      "text/plain": [
       "lagrange"
      ]
     },
     "execution_count": 1,
     "metadata": {},
     "output_type": "execute_result"
    }
   ],
   "source": [
    "using Plots\n",
    "using DifferentialEquations\n",
    "include(\"../dynamics/lagrange.jl\")"
   ]
  },
  {
   "cell_type": "code",
   "execution_count": 2,
   "metadata": {},
   "outputs": [
    {
     "ename": "LoadError",
     "evalue": "\u001b[91mUndefVarError: symbols not defined\u001b[39m",
     "output_type": "error",
     "traceback": [
      "\u001b[91mUndefVarError: symbols not defined\u001b[39m",
      ""
     ]
    }
   ],
   "source": [
    "x,y = symbols(\"x y\")\n",
    "j = [i*x*y for i in 1:3]"
   ]
  },
  {
   "cell_type": "code",
   "execution_count": 3,
   "metadata": {},
   "outputs": [
    {
     "ename": "LoadError",
     "evalue": "\u001b[91mUndefVarError: x not defined\u001b[39m",
     "output_type": "error",
     "traceback": [
      "\u001b[91mUndefVarError: x not defined\u001b[39m",
      ""
     ]
    }
   ],
   "source": [
    "zeros(length(x), length(j))"
   ]
  },
  {
   "cell_type": "code",
   "execution_count": 4,
   "metadata": {},
   "outputs": [
    {
     "data": {
      "text/plain": [
       "jacobian (generic function with 1 method)"
      ]
     },
     "execution_count": 4,
     "metadata": {},
     "output_type": "execute_result"
    }
   ],
   "source": [
    "function jacobian(f,x)\n",
    "    m = length(f)\n",
    "    n = length(x)\n",
    "    \n",
    "    jac = [diff(f[i],x[j]) for i in 1:m, j in 1:n]\n",
    "    \n",
    "    return jac\n",
    "end\n"
   ]
  },
  {
   "cell_type": "code",
   "execution_count": 5,
   "metadata": {},
   "outputs": [
    {
     "ename": "LoadError",
     "evalue": "\u001b[91mUndefVarError: j not defined\u001b[39m",
     "output_type": "error",
     "traceback": [
      "\u001b[91mUndefVarError: j not defined\u001b[39m",
      ""
     ]
    }
   ],
   "source": [
    "jacobian(j,[x,y,y])"
   ]
  },
  {
   "cell_type": "code",
   "execution_count": 6,
   "metadata": {},
   "outputs": [],
   "source": [
    "ddt = r -> jacobian(r, [q;dq])*[dq;ddq]\n",
    "M2Q = (M,w) -> jacobian(w,dq)'*(M);\n"
   ]
  },
  {
   "cell_type": "code",
   "execution_count": 7,
   "metadata": {},
   "outputs": [],
   "source": [
    "# Lagrange Example, pendulum"
   ]
  },
  {
   "cell_type": "code",
   "execution_count": 8,
   "metadata": {},
   "outputs": [
    {
     "ename": "LoadError",
     "evalue": "\u001b[91mUndefVarError: symbols not defined\u001b[39m",
     "output_type": "error",
     "traceback": [
      "\u001b[91mUndefVarError: symbols not defined\u001b[39m",
      ""
     ]
    }
   ],
   "source": [
    "m,l,g, θ, dθ, ddθ = symbols(\"m l g θ dθ ddθ\")"
   ]
  },
  {
   "cell_type": "code",
   "execution_count": 105,
   "metadata": {},
   "outputs": [
    {
     "data": {
      "text/plain": [
       "2-element Array{Int64,1}:\n",
       " 0\n",
       " 1"
      ]
     },
     "execution_count": 105,
     "metadata": {},
     "output_type": "execute_result"
    }
   ],
   "source": [
    "q = θ\n",
    "dq = dθ\n",
    "ddq = ddθ\n",
    "\n",
    "ihat = [1;0]\n",
    "jhat = [0;1]"
   ]
  },
  {
   "cell_type": "code",
   "execution_count": 106,
   "metadata": {},
   "outputs": [
    {
     "name": "stdout",
     "output_type": "stream",
     "text": [
      "SymEngine.Basic[l*sin(θ), l*cos(θ)]\n",
      "SymEngine.Basic[l*cos(θ)*dθ, -l*sin(θ)*dθ]\n"
     ]
    }
   ],
   "source": [
    "r = l*sin(q)*ihat + l*cos(q)*jhat\n",
    "dr = ddt(r)\n",
    "\n",
    "println(r)\n",
    "println(dr)"
   ]
  },
  {
   "cell_type": "code",
   "execution_count": 115,
   "metadata": {},
   "outputs": [
    {
     "data": {
      "text/plain": [
       "-g*l*m*cos(θ) + 0.5*l^2*m*sin(θ)^2*dθ^2 + 0.5*l^2*m*cos(θ)^2*dθ^2"
      ]
     },
     "execution_count": 115,
     "metadata": {},
     "output_type": "execute_result"
    }
   ],
   "source": [
    "K = 0.5*m*dr'*dr\n",
    "U = m*g*dot(r,jhat)\n",
    "\n",
    "L = K-U"
   ]
  },
  {
   "cell_type": "code",
   "execution_count": 109,
   "metadata": {},
   "outputs": [
    {
     "data": {
      "text/plain": [
       "1×1 Array{SymEngine.Basic,2}:\n",
       " (1.0*l^2*m*sin(θ)^2 + 1.0*l^2*m*cos(θ)^2)*ddθ - g*l*m*sin(θ)"
      ]
     },
     "execution_count": 109,
     "metadata": {},
     "output_type": "execute_result"
    }
   ],
   "source": [
    "eom = ddt(jacobian(L,dq)') - jacobian(L,q)\n"
   ]
  },
  {
   "cell_type": "code",
   "execution_count": 110,
   "metadata": {},
   "outputs": [
    {
     "data": {
      "text/plain": [
       "1×1 Array{SymEngine.Basic,2}:\n",
       " (1.0*l^2*m*sin(θ)^2 + 1.0*l^2*m*cos(θ)^2)*ddθ - ((1.0*l^2*m*sin(θ)^2 + 1.0*l^2*m*cos(θ)^2)*ddθ - g*l*m*sin(θ))"
      ]
     },
     "execution_count": 110,
     "metadata": {},
     "output_type": "execute_result"
    }
   ],
   "source": [
    "A = jacobian(eom,ddq)\n",
    "b = A*ddq - eom"
   ]
  },
  {
   "cell_type": "code",
   "execution_count": 111,
   "metadata": {},
   "outputs": [
    {
     "name": "stdout",
     "output_type": "stream",
     "text": [
      "SymEngine.Basic[1.0*l^2*m*sin(θ)^2 + 1.0*l^2*m*cos(θ)^2]\n",
      "SymEngine.Basic[(1.0*l^2*m*sin(θ)^2 + 1.0*l^2*m*cos(θ)^2)*ddθ - ((1.0*l^2*m*sin(θ)^2 + 1.0*l^2*m*cos(θ)^2)*ddθ - g*l*m*sin(θ))]\n"
     ]
    }
   ],
   "source": [
    "println(A)\n",
    "println(b)"
   ]
  },
  {
   "cell_type": "code",
   "execution_count": 120,
   "metadata": {},
   "outputs": [
    {
     "data": {
      "text/plain": [
       "eqn (generic function with 1 method)"
      ]
     },
     "execution_count": 120,
     "metadata": {},
     "output_type": "execute_result"
    }
   ],
   "source": [
    "eqn(θn, ddθn) = subs(eom[1],θ=>θn,ddθ=>ddθn)"
   ]
  },
  {
   "cell_type": "code",
   "execution_count": 121,
   "metadata": {},
   "outputs": [
    {
     "data": {
      "text/plain": [
       "-g*l*m*sin(1) + 2*(1.0*l^2*m*sin(1)^2 + 1.0*l^2*m*cos(1)^2)"
      ]
     },
     "execution_count": 121,
     "metadata": {},
     "output_type": "execute_result"
    }
   ],
   "source": [
    "eqn(1,2)"
   ]
  },
  {
   "cell_type": "code",
   "execution_count": null,
   "metadata": {},
   "outputs": [],
   "source": []
  }
 ],
 "metadata": {
  "kernelspec": {
   "display_name": "Julia 0.6.2",
   "language": "julia",
   "name": "julia-0.6"
  },
  "language_info": {
   "file_extension": ".jl",
   "mimetype": "application/julia",
   "name": "julia",
   "version": "0.6.2"
  }
 },
 "nbformat": 4,
 "nbformat_minor": 2
}
